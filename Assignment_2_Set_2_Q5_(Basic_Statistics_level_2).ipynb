{
  "nbformat": 4,
  "nbformat_minor": 0,
  "metadata": {
    "colab": {
      "name": "Assignment-2-Set-2-Q5 (Basic-Statistics-level_2).ipynb",
      "provenance": [],
      "collapsed_sections": [],
      "authorship_tag": "ABX9TyOCLHA5vpFUVZHhmTbGmqaN",
      "include_colab_link": true
    },
    "kernelspec": {
      "name": "python3",
      "display_name": "Python 3"
    },
    "language_info": {
      "name": "python"
    }
  },
  "cells": [
    {
      "cell_type": "markdown",
      "metadata": {
        "id": "view-in-github",
        "colab_type": "text"
      },
      "source": [
        "<a href=\"https://colab.research.google.com/github/RiteshopShrivastava/Assignment-2-Set-2-Q5-Basic-Statistics-level_2-/blob/main/Assignment_2_Set_2_Q5_(Basic_Statistics_level_2).ipynb\" target=\"_parent\"><img src=\"https://colab.research.google.com/assets/colab-badge.svg\" alt=\"Open In Colab\"/></a>"
      ]
    },
    {
      "cell_type": "markdown",
      "metadata": {
        "id": "7aR8Qj-jFS4y"
      },
      "source": [
        "Consider a company that has two different divisions. The annual profits from the two divisions are independent and have distributions Profit1 ~ N(5, 3^2) and Profit2 ~ N(7, 4^2) respectively. Both the profits are in $ Million. \n",
        "\n",
        "Answer the following questions about the total profit of the company in Rupees. Assume that $1 = Rs. 45\n",
        "\n",
        "A. Specify a Rupee range (centered on the mean) such that it contains 95% probability for the annual profit of the company. \n",
        "\n",
        "B. Specify the 5th percentile of profit (in Rupees) for the company \n",
        "\n",
        "C. Which of the two divisions has a larger probability of making a loss in a given year?"
      ]
    },
    {
      "cell_type": "code",
      "metadata": {
        "colab": {
          "base_uri": "https://localhost:8080/"
        },
        "id": "7nM5pCEiF8I9",
        "outputId": "9ebd9734-0337-4fc4-c118-669767cf6365"
      },
      "source": [
        "from scipy import stats\n",
        "import pandas as pd\n",
        "import numpy as np\n",
        "\n",
        "# Mean annual profit from two differenet division Mean =Mean1 + Mean2\n",
        "Mean = 5+7\n",
        "print( 'Mean annual profit', Mean*45)"
      ],
      "execution_count": 19,
      "outputs": [
        {
          "output_type": "stream",
          "text": [
            "Mean annual profit 540\n"
          ],
          "name": "stdout"
        }
      ]
    },
    {
      "cell_type": "code",
      "metadata": {
        "colab": {
          "base_uri": "https://localhost:8080/"
        },
        "id": "xoumMTJtC85p",
        "outputId": "dfc25070-7adc-43a7-cebe-80c6a4c2e467"
      },
      "source": [
        "# Mean annual standard deviaton from two differenet division SD = sqrt(σ1^2+σ2^2)\n",
        "SD = np.sqrt(9+16)\n",
        "print( ' Standard Deviation', SD*45)\n"
      ],
      "execution_count": 20,
      "outputs": [
        {
          "output_type": "stream",
          "text": [
            " Standard Deviation 225.0\n"
          ],
          "name": "stdout"
        }
      ]
    },
    {
      "cell_type": "markdown",
      "metadata": {
        "id": "7TX8zCIkKt_s"
      },
      "source": [
        "A. Specify a Rupee range (centered on the mean) such that it contains 95% probability for the annual profit of the company."
      ]
    },
    {
      "cell_type": "code",
      "metadata": {
        "colab": {
          "base_uri": "https://localhost:8080/"
        },
        "id": "reYdhX5gIxQd",
        "outputId": "c470b84c-b9f7-466a-b2d6-f2aa9ff1f193"
      },
      "source": [
        "# A. Specify a Rupee range (centered on the mean) such that it contains 95% probability for the annual profit of the company.\n",
        "range = stats.norm.interval(.95,540,225)\n",
        "print( 'Rs. range is', range, 'in million')"
      ],
      "execution_count": 26,
      "outputs": [
        {
          "output_type": "stream",
          "text": [
            "Rs. range is (99.00810347848784, 980.9918965215122) in million\n"
          ],
          "name": "stdout"
        }
      ]
    },
    {
      "cell_type": "markdown",
      "metadata": {
        "id": "DW5VRHdbK2xE"
      },
      "source": [
        "B. Specify the 5th percentile of profit (in Rupees) for the company"
      ]
    },
    {
      "cell_type": "code",
      "metadata": {
        "colab": {
          "base_uri": "https://localhost:8080/"
        },
        "id": "ZR0VYietEL_k",
        "outputId": "94eda84c-fbbc-4b26-89c7-5fe64021297f"
      },
      "source": [
        "#value of z for 5 percentile is -1.645\n",
        "stats.norm.ppf(.05)"
      ],
      "execution_count": 27,
      "outputs": [
        {
          "output_type": "execute_result",
          "data": {
            "text/plain": [
              "-1.6448536269514729"
            ]
          },
          "metadata": {
            "tags": []
          },
          "execution_count": 27
        }
      ]
    },
    {
      "cell_type": "code",
      "metadata": {
        "colab": {
          "base_uri": "https://localhost:8080/"
        },
        "id": "wfenxu0IEMFP",
        "outputId": "30fdb771-27d0-4f09-dc23-791f5ec47bfd"
      },
      "source": [
        "# To compute 5th Percentile, we use the formula X=μ + Zσ where μ = 540, Z = -1.645, σ = 225\n",
        "X= 540+(-1.645)*(225)\n",
        "print (X)"
      ],
      "execution_count": 11,
      "outputs": [
        {
          "output_type": "stream",
          "text": [
            "169.875\n"
          ],
          "name": "stdout"
        }
      ]
    },
    {
      "cell_type": "markdown",
      "metadata": {
        "id": "gwrUgGJNLPw_"
      },
      "source": [
        "C. Which of the two divisions has a larger probability of making a loss in a given year?"
      ]
    },
    {
      "cell_type": "code",
      "metadata": {
        "colab": {
          "base_uri": "https://localhost:8080/"
        },
        "id": "aRE-DOV1EMHx",
        "outputId": "c9fa4868-fd8e-495c-a980-524bcf23a28e"
      },
      "source": [
        "# Probability of division 1 making loss i.e P(X<0)\n",
        "stats.norm.cdf(0,5,3)"
      ],
      "execution_count": 31,
      "outputs": [
        {
          "output_type": "execute_result",
          "data": {
            "text/plain": [
              "0.0477903522728147"
            ]
          },
          "metadata": {
            "tags": []
          },
          "execution_count": 31
        }
      ]
    },
    {
      "cell_type": "code",
      "metadata": {
        "colab": {
          "base_uri": "https://localhost:8080/"
        },
        "id": "o5wGRgrtEMKI",
        "outputId": "7ae814e3-94f8-4649-8385-3fd1c50f1b9f"
      },
      "source": [
        "# Probability of division 2 making loss i.e P(X<0)\n",
        "stats.norm.cdf(0,7,4)"
      ],
      "execution_count": 33,
      "outputs": [
        {
          "output_type": "execute_result",
          "data": {
            "text/plain": [
              "0.040059156863817086"
            ]
          },
          "metadata": {
            "tags": []
          },
          "execution_count": 33
        }
      ]
    },
    {
      "cell_type": "markdown",
      "metadata": {
        "id": "v3iCUg9fL7nR"
      },
      "source": [
        "Inference : Division 1 is having larger probability of loss"
      ]
    }
  ]
}